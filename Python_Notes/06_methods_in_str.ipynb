{
 "cells": [
  {
   "cell_type": "code",
   "execution_count": 1,
   "metadata": {},
   "outputs": [
    {
     "name": "stdout",
     "output_type": "stream",
     "text": [
      "I WILL WIN\n"
     ]
    }
   ],
   "source": [
    "#1 upper()\n",
    "str1 = \"i will win\"\n",
    "print(str1.upper())\n"
   ]
  },
  {
   "cell_type": "code",
   "execution_count": 2,
   "metadata": {},
   "outputs": [
    {
     "name": "stdout",
     "output_type": "stream",
     "text": [
      "we will win\n"
     ]
    }
   ],
   "source": [
    "#2 lower()\n",
    "str2 = \"WE WILL WIN\"\n",
    "print(str2.lower())"
   ]
  },
  {
   "cell_type": "code",
   "execution_count": 3,
   "metadata": {},
   "outputs": [
    {
     "name": "stdout",
     "output_type": "stream",
     "text": [
      "Yoaimo\n"
     ]
    }
   ],
   "source": [
    "#3 strip()\n",
    "str3 = \"      Yoaimo      \"\n",
    "print(str3.strip())"
   ]
  },
  {
   "cell_type": "code",
   "execution_count": 4,
   "metadata": {},
   "outputs": [
    {
     "name": "stdout",
     "output_type": "stream",
     "text": [
      "Hello world!\n"
     ]
    }
   ],
   "source": [
    "#4 rstrip()\n",
    "str4 = \"Hello world!*****\"\n",
    "print(str4.rstrip(\"*\"))"
   ]
  },
  {
   "cell_type": "code",
   "execution_count": 5,
   "metadata": {},
   "outputs": [
    {
     "name": "stdout",
     "output_type": "stream",
     "text": [
      "Hello Suguro\n"
     ]
    }
   ],
   "source": [
    "#5 replace()\n",
    "str5 = \"Hello Saturo\"\n",
    "print(str5.replace(\"Saturo\",\"Suguro\"))"
   ]
  },
  {
   "cell_type": "code",
   "execution_count": 6,
   "metadata": {},
   "outputs": [
    {
     "name": "stdout",
     "output_type": "stream",
     "text": [
      "['Todo', 'Choso', 'Yuji']\n"
     ]
    }
   ],
   "source": [
    "#6 split()\n",
    "str6 = \"Todo,Choso,Yuji\"\n",
    "print(str6.split(\",\"))"
   ]
  },
  {
   "cell_type": "code",
   "execution_count": 7,
   "metadata": {},
   "outputs": [
    {
     "name": "stdout",
     "output_type": "stream",
     "text": [
      "Sukuna\n"
     ]
    }
   ],
   "source": [
    "#7 captalize()\n",
    "str7 = \"sukuna\"\n",
    "print(str7.capitalize())"
   ]
  },
  {
   "cell_type": "code",
   "execution_count": 8,
   "metadata": {},
   "outputs": [
    {
     "name": "stdout",
     "output_type": "stream",
     "text": [
      "Toji Almost Killed The Saturo\n"
     ]
    }
   ],
   "source": [
    "#8 title()\n",
    "str8 = \"toji almost killed the Saturo\"\n",
    "print(str8.title())"
   ]
  },
  {
   "cell_type": "code",
   "execution_count": 9,
   "metadata": {},
   "outputs": [
    {
     "name": "stdout",
     "output_type": "stream",
     "text": [
      "Sukuna Is The King Of The Curses\n"
     ]
    }
   ],
   "source": [
    "#9 swapcase()\n",
    "str9 = \"sUKUNA iS tHE kING oF tHE cURSES\"\n",
    "print(str9.swapcase())"
   ]
  },
  {
   "cell_type": "code",
   "execution_count": 10,
   "metadata": {},
   "outputs": [
    {
     "name": "stdout",
     "output_type": "stream",
     "text": [
      "    Saturo Gojo     \n"
     ]
    }
   ],
   "source": [
    "#10 center\n",
    "str10 = \"Saturo Gojo\"\n",
    "print(str10.center(20))"
   ]
  },
  {
   "cell_type": "code",
   "execution_count": 11,
   "metadata": {},
   "outputs": [
    {
     "name": "stdout",
     "output_type": "stream",
     "text": [
      "4\n"
     ]
    }
   ],
   "source": [
    "#11 count()\n",
    "str11 = \"I will kill Yuji Itadori\"\n",
    "print(str11.count(\"i\"))"
   ]
  },
  {
   "cell_type": "code",
   "execution_count": 12,
   "metadata": {},
   "outputs": [
    {
     "name": "stdout",
     "output_type": "stream",
     "text": [
      "14\n",
      "-1\n"
     ]
    }
   ],
   "source": [
    "#12 find()\n",
    "str12 = \"Ryomen Sukuna VS Saturo Gojo\"\n",
    "print(str12.find(\"VS\"))\n",
    "print(str12.find(\"Yuji\"))"
   ]
  },
  {
   "cell_type": "code",
   "execution_count": 15,
   "metadata": {},
   "outputs": [
    {
     "name": "stdout",
     "output_type": "stream",
     "text": [
      "38\n"
     ]
    }
   ],
   "source": [
    "#13 index()\n",
    "str13 = \"Sukuna vs Saturo Fight will break the Internet of the Whole World\"\n",
    "print(str13.index(\"Internet\"))\n",
    "# print(str13.index(\"Data\"))"
   ]
  },
  {
   "cell_type": "code",
   "execution_count": 17,
   "metadata": {},
   "outputs": [
    {
     "name": "stdout",
     "output_type": "stream",
     "text": [
      "True\n",
      "False\n"
     ]
    }
   ],
   "source": [
    "#14 isalnum()\n",
    "str14 = \"Yujihave100points\"\n",
    "str14_ = \"Yutahasmorepoints!!!\"\n",
    "print(str14.isalnum())\n",
    "print(str14_.isalnum())"
   ]
  },
  {
   "cell_type": "code",
   "execution_count": 18,
   "metadata": {},
   "outputs": [
    {
     "name": "stdout",
     "output_type": "stream",
     "text": [
      "True\n",
      "False\n"
     ]
    }
   ],
   "source": [
    "#15 isalpha()\n",
    "str15 = \"YutaOkkotsuVSYujiItadori\"\n",
    "str15_ = \"YutaeasildefeatstheYuji100%\"\n",
    "print(str15.isalpha())\n",
    "print(str15_.isalpha())\n"
   ]
  },
  {
   "cell_type": "code",
   "execution_count": 19,
   "metadata": {},
   "outputs": [
    {
     "name": "stdout",
     "output_type": "stream",
     "text": [
      "True\n",
      "False\n"
     ]
    }
   ],
   "source": [
    "#16 istitle()\n",
    "str16 = \"Shibuya Arc Is So Awesome\"\n",
    "str16_ = \"in shibuya arc so many sorcercer will die\"\n",
    "print(str16.istitle())\n",
    "print(str16_.istitle())"
   ]
  },
  {
   "cell_type": "code",
   "execution_count": 20,
   "metadata": {},
   "outputs": [
    {
     "name": "stdout",
     "output_type": "stream",
     "text": [
      "True\n",
      "False\n"
     ]
    }
   ],
   "source": [
    "#17 isupper()\n",
    "str17 = \"RIKA\"\n",
    "str17_ = \"yuta\"\n",
    "print(str17.isupper())\n",
    "print(str17_.isupper())"
   ]
  },
  {
   "cell_type": "code",
   "execution_count": 21,
   "metadata": {},
   "outputs": [
    {
     "name": "stdout",
     "output_type": "stream",
     "text": [
      "True\n",
      "False\n"
     ]
    }
   ],
   "source": [
    "#18 islower()\n",
    "str18 = \"megumi\"\n",
    "str18_ = \"YUJI\"\n",
    "print(str18.islower())\n",
    "print(str18_.islower())"
   ]
  },
  {
   "cell_type": "code",
   "execution_count": 22,
   "metadata": {},
   "outputs": [
    {
     "name": "stdout",
     "output_type": "stream",
     "text": [
      "True\n",
      "False\n"
     ]
    }
   ],
   "source": [
    "#19 isspace()\n",
    "str19 = \"     \"\n",
    "str19_ = \"Yuta has more Curse Energy tha Saturo\"\n",
    "print(str19.isspace())\n",
    "print(str19_.isspace())"
   ]
  },
  {
   "cell_type": "code",
   "execution_count": 23,
   "metadata": {},
   "outputs": [
    {
     "name": "stdout",
     "output_type": "stream",
     "text": [
      "True\n",
      "False\n"
     ]
    }
   ],
   "source": [
    "#20 isprintable()\n",
    "str20 = \"Yuta Okkutsu is the Strongest Character in JJK after Saturo Gojo\"\n",
    "str20_ = \"Yuta defeat the Suguro Geto\\n\"\n",
    "print(str20.isprintable())\n",
    "print(str20_.isprintable())"
   ]
  },
  {
   "cell_type": "code",
   "execution_count": 24,
   "metadata": {},
   "outputs": [
    {
     "name": "stdout",
     "output_type": "stream",
     "text": [
      "True\n",
      "True\n"
     ]
    }
   ],
   "source": [
    "#21 starswith()\n",
    "str21 = \"Todo and Yuji VS Hanami is the most Interesting Fight in JJK\"\n",
    "print(str21.startswith(\"Todo\"))\n",
    "print(str21.startswith(\"Yuji\", 9))\n"
   ]
  },
  {
   "cell_type": "code",
   "execution_count": 25,
   "metadata": {},
   "outputs": [
    {
     "name": "stdout",
     "output_type": "stream",
     "text": [
      "True\n",
      "True\n"
     ]
    }
   ],
   "source": [
    "#22 endswith()\n",
    "str22 = \"Yuji and Nanami almost Kill the Mahito\"\n",
    "print(str22.endswith(\"Mahito\"))\n",
    "print(str22.endswith(\"Nanami\", 0,15))"
   ]
  }
 ],
 "metadata": {
  "kernelspec": {
   "display_name": "Python 3",
   "language": "python",
   "name": "python3"
  },
  "language_info": {
   "codemirror_mode": {
    "name": "ipython",
    "version": 3
   },
   "file_extension": ".py",
   "mimetype": "text/x-python",
   "name": "python",
   "nbconvert_exporter": "python",
   "pygments_lexer": "ipython3",
   "version": "3.12.0"
  }
 },
 "nbformat": 4,
 "nbformat_minor": 2
}
