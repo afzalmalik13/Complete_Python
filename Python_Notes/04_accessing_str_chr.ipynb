{
 "cells": [
  {
   "cell_type": "code",
   "execution_count": 1,
   "metadata": {},
   "outputs": [
    {
     "name": "stdout",
     "output_type": "stream",
     "text": [
      "P\n",
      "Goku\n",
      "Itachi\n"
     ]
    }
   ],
   "source": [
    "#accessing string character\n",
    "\n",
    "a = 'Prince Vageta'\n",
    "print(a[0])\n",
    "\n",
    "b = 'Son Goku'\n",
    "print(b[4:])\n",
    "\n",
    "c = 'Itachi Uchiha'\n",
    "print(c[0:6])"
   ]
  },
  {
   "cell_type": "code",
   "execution_count": 2,
   "metadata": {},
   "outputs": [
    {
     "name": "stdout",
     "output_type": "stream",
     "text": [
      "Y\n",
      "o\n",
      "r\n",
      "i\n",
      "i\n",
      "c\n",
      "h\n",
      "i\n"
     ]
    }
   ],
   "source": [
    "#looping in string\n",
    "\n",
    "d = 'Yoriichi'\n",
    "for character in d:\n",
    "    print(character)"
   ]
  }
 ],
 "metadata": {
  "kernelspec": {
   "display_name": "Python 3",
   "language": "python",
   "name": "python3"
  },
  "language_info": {
   "codemirror_mode": {
    "name": "ipython",
    "version": 3
   },
   "file_extension": ".py",
   "mimetype": "text/x-python",
   "name": "python",
   "nbconvert_exporter": "python",
   "pygments_lexer": "ipython3",
   "version": "3.12.0"
  }
 },
 "nbformat": 4,
 "nbformat_minor": 2
}
