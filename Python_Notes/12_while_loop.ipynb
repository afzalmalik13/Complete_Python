{
 "cells": [
  {
   "cell_type": "code",
   "execution_count": 2,
   "metadata": {},
   "outputs": [
    {
     "name": "stdout",
     "output_type": "stream",
     "text": [
      "0,1,2,3,4,5,"
     ]
    }
   ],
   "source": [
    "# while loop\n",
    "\n",
    "i = 0\n",
    "while(i<6):\n",
    "    print(f'{i}', end = (','))\n",
    "    i += 1"
   ]
  },
  {
   "cell_type": "code",
   "execution_count": 12,
   "metadata": {},
   "outputs": [
    {
     "name": "stdout",
     "output_type": "stream",
     "text": [
      "7,6,5,4,3,2,1,\n",
      "I am inside the else\n"
     ]
    }
   ],
   "source": [
    "# while loop with else\n",
    "\n",
    "i = 7\n",
    "while(i>0):\n",
    "    print(f'{i}', end = (','))\n",
    "    i -= 1\n",
    "else:\n",
    "    print(f'\\nI am inside the else')"
   ]
  }
 ],
 "metadata": {
  "kernelspec": {
   "display_name": "Python 3",
   "language": "python",
   "name": "python3"
  },
  "language_info": {
   "codemirror_mode": {
    "name": "ipython",
    "version": 3
   },
   "file_extension": ".py",
   "mimetype": "text/x-python",
   "name": "python",
   "nbconvert_exporter": "python",
   "pygments_lexer": "ipython3",
   "version": "3.12.0"
  }
 },
 "nbformat": 4,
 "nbformat_minor": 2
}
