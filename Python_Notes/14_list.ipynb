{
 "cells": [
  {
   "cell_type": "code",
   "execution_count": 2,
   "metadata": {},
   "outputs": [
    {
     "name": "stdout",
     "output_type": "stream",
     "text": [
      "[4, 5, 6, 7, 8, 9]\n",
      "<class 'list'>\n"
     ]
    }
   ],
   "source": [
    "# python list\n",
    "\n",
    "ls = [4,5,6,7,8,9]\n",
    "print(f'{ls}\\n{type(ls)}')"
   ]
  },
  {
   "cell_type": "code",
   "execution_count": 4,
   "metadata": {},
   "outputs": [
    {
     "name": "stdout",
     "output_type": "stream",
     "text": [
      "Naruto\n",
      "Sasuke\n",
      "Sakura\n",
      "Kakashi\n"
     ]
    }
   ],
   "source": [
    "# accessing item of a list\n",
    "\n",
    "ls = ['Naruto','Sasuke','Sakura','Kakashi']\n",
    "print(f'{ls[0]}\\n{ls[1]}\\n{ls[2]}\\n{ls[3]}')"
   ]
  },
  {
   "cell_type": "code",
   "execution_count": 6,
   "metadata": {},
   "outputs": [
    {
     "name": "stdout",
     "output_type": "stream",
     "text": [
      "[4, 10, 16, 22, 28]\n"
     ]
    }
   ],
   "source": [
    "# list comprehension\n",
    "\n",
    "ls = [i*2 for i in range(2,15,3)]\n",
    "print(f'{ls}')"
   ]
  },
  {
   "cell_type": "code",
   "execution_count": 11,
   "metadata": {},
   "outputs": [
    {
     "name": "stdout",
     "output_type": "stream",
     "text": [
      "[3, 6, 9, 12, 15, 18, 21, 24, 27, 30]\n"
     ]
    }
   ],
   "source": [
    "# list comprehension\n",
    "\n",
    "ls = [i for i in range(1,31) if i % 3 == 0]\n",
    "print(f'{ls}')"
   ]
  }
 ],
 "metadata": {
  "kernelspec": {
   "display_name": "Python 3",
   "language": "python",
   "name": "python3"
  },
  "language_info": {
   "codemirror_mode": {
    "name": "ipython",
    "version": 3
   },
   "file_extension": ".py",
   "mimetype": "text/x-python",
   "name": "python",
   "nbconvert_exporter": "python",
   "pygments_lexer": "ipython3",
   "version": "3.12.0"
  }
 },
 "nbformat": 4,
 "nbformat_minor": 2
}
