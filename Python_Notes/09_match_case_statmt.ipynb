{
 "cells": [
  {
   "cell_type": "code",
   "execution_count": 10,
   "metadata": {},
   "outputs": [
    {
     "name": "stdout",
     "output_type": "stream",
     "text": [
      "This is special no.\n"
     ]
    }
   ],
   "source": [
    "# match case statement\n",
    "\n",
    "x = float(input(\"Enter the value of x = \"))\n",
    "match x: # x is the variable to match\n",
    "    case 0: # if x is zero\n",
    "        print(\"x is zero\")\n",
    "    case 10 if x / 5 == 2: # case with if condition\n",
    "        print('This is special no.')\n",
    "    case _ if x % 2 == 0: # empty case with if condition , this is like a complete if\n",
    "        print('x is completely divisible by 2')\n",
    "    case _: # default case(case _ = case other), if the above conditions are not execute then default case execute like else\n",
    "        print('x is not divisible by 2')"
   ]
  }
 ],
 "metadata": {
  "kernelspec": {
   "display_name": "Python 3",
   "language": "python",
   "name": "python3"
  },
  "language_info": {
   "codemirror_mode": {
    "name": "ipython",
    "version": 3
   },
   "file_extension": ".py",
   "mimetype": "text/x-python",
   "name": "python",
   "nbconvert_exporter": "python",
   "pygments_lexer": "ipython3",
   "version": "3.12.0"
  }
 },
 "nbformat": 4,
 "nbformat_minor": 2
}
