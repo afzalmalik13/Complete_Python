{
 "cells": [
  {
   "cell_type": "code",
   "execution_count": 2,
   "metadata": {},
   "outputs": [
    {
     "name": "stdout",
     "output_type": "stream",
     "text": [
      "Anime\n",
      "1. Dragon Ball\n",
      "2. Naruto\n",
      "3.One Piece\n",
      "4.One Punch Man\n",
      "5.Tokyo Revengers\n",
      "\n"
     ]
    }
   ],
   "source": [
    "#string\n",
    "str = 'Anime'\n",
    "print(str)\n",
    "\n",
    "#multiline string\n",
    "str1 = '''1. Dragon Ball\n",
    "2. Naruto\n",
    "3.One Piece\n",
    "4.One Punch Man\n",
    "5.Tokyo Revengers\n",
    "'''\n",
    "print(str1)"
   ]
  }
 ],
 "metadata": {
  "kernelspec": {
   "display_name": "Python 3",
   "language": "python",
   "name": "python3"
  },
  "language_info": {
   "codemirror_mode": {
    "name": "ipython",
    "version": 3
   },
   "file_extension": ".py",
   "mimetype": "text/x-python",
   "name": "python",
   "nbconvert_exporter": "python",
   "pygments_lexer": "ipython3",
   "version": "3.12.0"
  }
 },
 "nbformat": 4,
 "nbformat_minor": 2
}
