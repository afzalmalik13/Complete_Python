{
 "cells": [
  {
   "cell_type": "code",
   "execution_count": 2,
   "metadata": {},
   "outputs": [
    {
     "name": "stdout",
     "output_type": "stream",
     "text": [
      "You cannot give vote in Election.\n"
     ]
    }
   ],
   "source": [
    "# if-else statement\n",
    "a = int(input(\"Enter Your Age: \"))\n",
    "if(a>18):\n",
    "    print(\"You can give vote in Election.\")\n",
    "else:\n",
    "    print(\"You cannot give vote in Election.\")"
   ]
  },
  {
   "cell_type": "code",
   "execution_count": 8,
   "metadata": {},
   "outputs": [
    {
     "name": "stdout",
     "output_type": "stream",
     "text": [
      "You cannot watch Adult Anime.\n"
     ]
    }
   ],
   "source": [
    "# if-else-elif statement\n",
    "b = int(input(\"Enter Your Age: \"))\n",
    "if(b>18):\n",
    "    print(\"You can watch all types Anime.\")\n",
    "elif(12<b<18):\n",
    "    print(\"You cannot watch Adult Anime.\")\n",
    "else:\n",
    "    print(\"You can watch only Cartoon.\")"
   ]
  },
  {
   "cell_type": "code",
   "execution_count": 13,
   "metadata": {},
   "outputs": [
    {
     "name": "stdout",
     "output_type": "stream",
     "text": [
      "You should watch One Piece Anime.\n"
     ]
    }
   ],
   "source": [
    "# nisted if-else statement\n",
    "c = int(input(\"Enter Your Number: \"))\n",
    "if(c>100):\n",
    "    if(100<c<=200):\n",
    "        print(\"You should watch Tokyo Revengers Anime.\")\n",
    "    elif(200<c<=500):\n",
    "        print(\" You should watch Demon Slayer Anime.\")\n",
    "    else:\n",
    "        print(\"You should watch One Piece Anime.\")\n",
    "elif(c==1):\n",
    "    print(\"You should watch Dragon Ball Super Anime.\")\n",
    "else:\n",
    "    print(\"You should watch Jujutsu Kaisen Anime.\")"
   ]
  }
 ],
 "metadata": {
  "kernelspec": {
   "display_name": "Python 3",
   "language": "python",
   "name": "python3"
  },
  "language_info": {
   "codemirror_mode": {
    "name": "ipython",
    "version": 3
   },
   "file_extension": ".py",
   "mimetype": "text/x-python",
   "name": "python",
   "nbconvert_exporter": "python",
   "pygments_lexer": "ipython3",
   "version": "3.12.0"
  }
 },
 "nbformat": 4,
 "nbformat_minor": 2
}
